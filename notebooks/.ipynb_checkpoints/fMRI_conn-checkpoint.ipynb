{
 "cells": [
  {
   "cell_type": "code",
   "execution_count": 106,
   "id": "e91b3b84-96c9-4544-8e97-84b2c64f7774",
   "metadata": {},
   "outputs": [
    {
     "name": "stdout",
     "output_type": "stream",
     "text": [
      "The autoreload extension is already loaded. To reload it, use:\n",
      "  %reload_ext autoreload\n"
     ]
    }
   ],
   "source": [
    "%load_ext autoreload\n",
    "%autoreload 2\n",
    "import nibabel as nib\n",
    "import pandas as pd\n",
    "import numpy as np\n",
    "import seaborn as sns\n",
    "from glob import glob\n",
    "\n",
    "import sys\n",
    "sys.path.append('../src')\n",
    "from helper import *\n",
    "\n"
   ]
  },
  {
   "cell_type": "code",
   "execution_count": 107,
   "id": "f71ae350-3cdf-4ecb-88dc-c809d4241224",
   "metadata": {},
   "outputs": [
    {
     "name": "stdout",
     "output_type": "stream",
     "text": [
      "aws  brainstorm  cluster  fMRI_parcels\tn_files.txt  n_files_subset.txt\n"
     ]
    }
   ],
   "source": [
    "!ls ../scripts/"
   ]
  },
  {
   "cell_type": "code",
   "execution_count": 115,
   "id": "40dc2019-b762-4eba-b36f-e2cff8ff4c0e",
   "metadata": {},
   "outputs": [],
   "source": [
    "# Some parameters\n",
    "skip = 1\n",
    "list_of_subjects = get_list_of_subjects('../scripts/n_files.txt')"
   ]
  },
  {
   "cell_type": "code",
   "execution_count": 116,
   "id": "a6930782-3f6d-4168-8231-938961c80a22",
   "metadata": {},
   "outputs": [],
   "source": [
    "all_subjects, all_corr = get_data(list_of_subjects, skip)"
   ]
  },
  {
   "cell_type": "code",
   "execution_count": 117,
   "id": "65ea3d18-0cab-4984-a3d5-b73b74349222",
   "metadata": {},
   "outputs": [],
   "source": [
    "# average corr\n",
    "avg_corr = calculate_average_corr(all_corr)\n",
    "plot_corr(avg_corr)"
   ]
  },
  {
   "cell_type": "code",
   "execution_count": 118,
   "id": "7ea25ee2-b9e4-45b0-9adc-9633793177c9",
   "metadata": {
    "tags": []
   },
   "outputs": [],
   "source": [
    "for i in range(len(all_corr)):\n",
    "    fig_save_path = '../output/fMRI_corrplots/{}'.format(list_of_subjects[i]+'.png')\n",
    "    plot_corr(all_corr[i], save_name=fig_save_path)\n",
    "    "
   ]
  },
  {
   "cell_type": "code",
   "execution_count": null,
   "id": "fe6168a8-1290-4969-a01e-dd40bf81417a",
   "metadata": {},
   "outputs": [],
   "source": []
  },
  {
   "cell_type": "code",
   "execution_count": null,
   "id": "775732b6-f615-492a-b1e4-08139b1ef624",
   "metadata": {},
   "outputs": [],
   "source": []
  }
 ],
 "metadata": {
  "kernelspec": {
   "display_name": "Python 3 (ipykernel)",
   "language": "python",
   "name": "python3"
  },
  "language_info": {
   "codemirror_mode": {
    "name": "ipython",
    "version": 3
   },
   "file_extension": ".py",
   "mimetype": "text/x-python",
   "name": "python",
   "nbconvert_exporter": "python",
   "pygments_lexer": "ipython3",
   "version": "3.10.4"
  }
 },
 "nbformat": 4,
 "nbformat_minor": 5
}
