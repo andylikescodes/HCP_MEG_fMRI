{
 "cells": [
  {
   "cell_type": "code",
   "execution_count": 1,
   "id": "bf636beb",
   "metadata": {},
   "outputs": [],
   "source": [
    "import nibabel as nib"
   ]
  },
  {
   "cell_type": "code",
   "execution_count": 2,
   "id": "1c1f6c95",
   "metadata": {},
   "outputs": [
    {
     "name": "stdout",
     "output_type": "stream",
     "text": [
      "/mnt/e/HCP_MEG_fMRI/test\r\n"
     ]
    }
   ],
   "source": [
    "!pwd"
   ]
  },
  {
   "cell_type": "code",
   "execution_count": 8,
   "id": "9099b655",
   "metadata": {
    "collapsed": true
   },
   "outputs": [
    {
     "name": "stdout",
     "output_type": "stream",
     "text": [
      "100307_rfMRI_REST1_LR_ICA_Classification_dualscreen.scene\r\n",
      "100307_rfMRI_REST1_LR_ICA_Classification_singlescreen.scene\r\n",
      "Atlas_hp_preclean.dtseries.nii\r\n",
      "Movement_AbsoluteRMS.txt\r\n",
      "Movement_AbsoluteRMS_mean.txt\r\n",
      "Movement_Regressors.txt\r\n",
      "Movement_Regressors_dt.txt\r\n",
      "Movement_RelativeRMS.txt\r\n",
      "Movement_RelativeRMS_mean.txt\r\n",
      "PhaseOne_gdc_dc.nii.gz\r\n",
      "PhaseTwo_gdc_dc.nii.gz\r\n",
      "ReclassifyAsNoise.txt\r\n",
      "ReclassifyAsSignal.txt\r\n",
      "RestingStateStats\r\n",
      "RibbonVolumeToSurfaceMapping\r\n",
      "SBRef_dc.nii.gz\r\n",
      "brainmask_fs.2.nii.gz\r\n",
      "rfMRI_REST1_LR.L.native.func.gii\r\n",
      "rfMRI_REST1_LR.R.native.func.gii\r\n",
      "rfMRI_REST1_LR.nii.gz\r\n",
      "rfMRI_REST1_LR_Atlas.dtseries.nii\r\n",
      "rfMRI_REST1_LR_Atlas_MSMAll.dtseries.nii\r\n",
      "rfMRI_REST1_LR_Atlas_MSMAll_hp2000_clean.dtseries.nii\r\n",
      "rfMRI_REST1_LR_Atlas_hp2000_clean.dtseries.nii\r\n",
      "rfMRI_REST1_LR_Atlas_hp2000_clean_bias.dscalar.nii\r\n",
      "rfMRI_REST1_LR_Atlas_hp2000_clean_vn.dscalar.nii\r\n",
      "rfMRI_REST1_LR_Atlas_stats.dscalar.nii\r\n",
      "rfMRI_REST1_LR_Atlas_stats.txt\r\n",
      "rfMRI_REST1_LR_CSF.txt\r\n",
      "rfMRI_REST1_LR_Jacobian.nii.gz\r\n",
      "rfMRI_REST1_LR_Physio_log.txt\r\n",
      "rfMRI_REST1_LR_SBRef.nii.gz\r\n",
      "rfMRI_REST1_LR_WM.txt\r\n",
      "rfMRI_REST1_LR_hp2000.ica\r\n",
      "rfMRI_REST1_LR_hp2000_clean.nii.gz\r\n"
     ]
    }
   ],
   "source": [
    "!ls ../data/100307/MNINonLinear/Results/rfMRI_REST1_LR"
   ]
  },
  {
   "cell_type": "code",
   "execution_count": 14,
   "id": "5bdac815",
   "metadata": {
    "collapsed": true
   },
   "outputs": [
    {
     "name": "stdout",
     "output_type": "stream",
     "text": [
      "100307.32k_fs_LR.wb.spec\r\n",
      "100307.ArealDistortion_FS.32k_fs_LR.dscalar.nii\r\n",
      "100307.ArealDistortion_MSMAll.32k_fs_LR.dscalar.nii\r\n",
      "100307.ArealDistortion_MSMSulc.32k_fs_LR.dscalar.nii\r\n",
      "100307.BA.32k_fs_LR.dlabel.nii\r\n",
      "100307.BiasField_MSMAll.32k_fs_LR.dscalar.nii\r\n",
      "100307.EdgeDistortion_MSMAll.32k_fs_LR.dscalar.nii\r\n",
      "100307.L.ArealDistortion_FS.32k_fs_LR.shape.gii\r\n",
      "100307.L.ArealDistortion_MSMSulc.32k_fs_LR.shape.gii\r\n",
      "100307.L.BA.32k_fs_LR.label.gii\r\n",
      "100307.L.MyelinMap.32k_fs_LR.func.gii\r\n",
      "100307.L.MyelinMap_BC.32k_fs_LR.func.gii\r\n",
      "100307.L.SmoothedMyelinMap.32k_fs_LR.func.gii\r\n",
      "100307.L.SmoothedMyelinMap_BC.32k_fs_LR.func.gii\r\n",
      "100307.L.aparc.32k_fs_LR.label.gii\r\n",
      "100307.L.aparc.a2009s.32k_fs_LR.label.gii\r\n",
      "100307.L.atlasroi.32k_fs_LR.shape.gii\r\n",
      "100307.L.corrThickness.32k_fs_LR.shape.gii\r\n",
      "100307.L.curvature.32k_fs_LR.shape.gii\r\n",
      "100307.L.flat.32k_fs_LR.surf.gii\r\n",
      "100307.L.inflated.32k_fs_LR.surf.gii\r\n",
      "100307.L.inflated_MSMAll.32k_fs_LR.surf.gii\r\n",
      "100307.L.midthickness.32k_fs_LR.surf.gii\r\n",
      "100307.L.midthickness_MSMAll.32k_fs_LR.surf.gii\r\n",
      "100307.L.pial.32k_fs_LR.surf.gii\r\n",
      "100307.L.pial_MSMAll.32k_fs_LR.surf.gii\r\n",
      "100307.L.sphere.32k_fs_LR.surf.gii\r\n",
      "100307.L.sulc.32k_fs_LR.shape.gii\r\n",
      "100307.L.thickness.32k_fs_LR.shape.gii\r\n",
      "100307.L.very_inflated.32k_fs_LR.surf.gii\r\n",
      "100307.L.very_inflated_MSMAll.32k_fs_LR.surf.gii\r\n",
      "100307.L.white.32k_fs_LR.surf.gii\r\n",
      "100307.L.white_MSMAll.32k_fs_LR.surf.gii\r\n",
      "100307.MSMAll.32k_fs_LR.wb.spec\r\n",
      "100307.MyelinMap.32k_fs_LR.dscalar.nii\r\n",
      "100307.MyelinMap_BC.32k_fs_LR.dscalar.nii\r\n",
      "100307.MyelinMap_BC_MSMAll.32k_fs_LR.dscalar.nii\r\n",
      "100307.MyelinMap_MSMAll.32k_fs_LR.dscalar.nii\r\n",
      "100307.R.ArealDistortion_FS.32k_fs_LR.shape.gii\r\n",
      "100307.R.ArealDistortion_MSMSulc.32k_fs_LR.shape.gii\r\n",
      "100307.R.BA.32k_fs_LR.label.gii\r\n",
      "100307.R.MyelinMap.32k_fs_LR.func.gii\r\n",
      "100307.R.MyelinMap_BC.32k_fs_LR.func.gii\r\n",
      "100307.R.SmoothedMyelinMap.32k_fs_LR.func.gii\r\n",
      "100307.R.SmoothedMyelinMap_BC.32k_fs_LR.func.gii\r\n",
      "100307.R.aparc.32k_fs_LR.label.gii\r\n",
      "100307.R.aparc.a2009s.32k_fs_LR.label.gii\r\n",
      "100307.R.atlasroi.32k_fs_LR.shape.gii\r\n",
      "100307.R.corrThickness.32k_fs_LR.shape.gii\r\n",
      "100307.R.curvature.32k_fs_LR.shape.gii\r\n",
      "100307.R.flat.32k_fs_LR.surf.gii\r\n",
      "100307.R.inflated.32k_fs_LR.surf.gii\r\n",
      "100307.R.inflated_MSMAll.32k_fs_LR.surf.gii\r\n",
      "100307.R.midthickness.32k_fs_LR.surf.gii\r\n",
      "100307.R.midthickness_MSMAll.32k_fs_LR.surf.gii\r\n",
      "100307.R.pial.32k_fs_LR.surf.gii\r\n",
      "100307.R.pial_MSMAll.32k_fs_LR.surf.gii\r\n",
      "100307.R.sphere.32k_fs_LR.surf.gii\r\n",
      "100307.R.sulc.32k_fs_LR.shape.gii\r\n",
      "100307.R.thickness.32k_fs_LR.shape.gii\r\n",
      "100307.R.very_inflated.32k_fs_LR.surf.gii\r\n",
      "100307.R.very_inflated_MSMAll.32k_fs_LR.surf.gii\r\n",
      "100307.R.white.32k_fs_LR.surf.gii\r\n",
      "100307.R.white_MSMAll.32k_fs_LR.surf.gii\r\n",
      "100307.SmoothedMyelinMap.32k_fs_LR.dscalar.nii\r\n",
      "100307.SmoothedMyelinMap_BC.32k_fs_LR.dscalar.nii\r\n",
      "100307.SmoothedMyelinMap_BC_MSMAll.32k_fs_LR.dscalar.nii\r\n",
      "100307.SphericalDistortion_MSMAll.32k_fs_LR.dscalar.nii\r\n",
      "100307.aparc.32k_fs_LR.dlabel.nii\r\n",
      "100307.aparc.a2009s.32k_fs_LR.dlabel.nii\r\n",
      "100307.corrThickness.32k_fs_LR.dscalar.nii\r\n",
      "100307.corrThickness_MSMAll.32k_fs_LR.dscalar.nii\r\n",
      "100307.curvature.32k_fs_LR.dscalar.nii\r\n",
      "100307.curvature_MSMAll.32k_fs_LR.dscalar.nii\r\n",
      "100307.sulc.32k_fs_LR.dscalar.nii\r\n",
      "100307.sulc_MSMAll.32k_fs_LR.dscalar.nii\r\n",
      "100307.thickness.32k_fs_LR.dscalar.nii\r\n",
      "100307.thickness_MSMAll.32k_fs_LR.dscalar.nii\r\n"
     ]
    }
   ],
   "source": [
    "!ls ../data/100307/MNINonLinear/fsaverage_LR32k"
   ]
  },
  {
   "cell_type": "code",
   "execution_count": 25,
   "id": "ec974bea",
   "metadata": {},
   "outputs": [
    {
     "name": "stdout",
     "output_type": "stream",
     "text": [
      "test.nii  test.pconn.nii  test.ptseries.nii\r\n"
     ]
    }
   ],
   "source": [
    "!ls ../output/"
   ]
  },
  {
   "cell_type": "code",
   "execution_count": 26,
   "id": "3c2d327f",
   "metadata": {},
   "outputs": [],
   "source": [
    "data_path          = \"../data/100307/MNINonLinear/Results/rfMRI_REST1_LR/rfMRI_REST1_LR_Atlas_MSMAll_hp2000_clean.dtseries.nii\"\n",
    "parcellation_path  = \"../data/100307/MNINonLinear/fsaverage_LR32k/100307.aparc.32k_fs_LR.dlabel.nii\"\n",
    "output_path        = \"../output/test.ptseries.nii\""
   ]
  },
  {
   "cell_type": "code",
   "execution_count": 27,
   "id": "29ef8bf4",
   "metadata": {},
   "outputs": [],
   "source": [
    "test_data = nib.load(output_path)"
   ]
  },
  {
   "cell_type": "code",
   "execution_count": 28,
   "id": "0704deca",
   "metadata": {},
   "outputs": [
    {
     "data": {
      "text/plain": [
       "(1200, 70)"
      ]
     },
     "execution_count": 28,
     "metadata": {},
     "output_type": "execute_result"
    }
   ],
   "source": [
    "test_data.get_fdata().shape"
   ]
  },
  {
   "cell_type": "code",
   "execution_count": null,
   "id": "9bb193a8",
   "metadata": {},
   "outputs": [],
   "source": []
  },
  {
   "cell_type": "code",
   "execution_count": 16,
   "id": "05a8e820",
   "metadata": {},
   "outputs": [],
   "source": [
    "parcellation = nib.load(parcellation_path)"
   ]
  },
  {
   "cell_type": "code",
   "execution_count": 17,
   "id": "cdc1bbb2",
   "metadata": {},
   "outputs": [
    {
     "data": {
      "text/plain": [
       "(1, 59412)"
      ]
     },
     "execution_count": 17,
     "metadata": {},
     "output_type": "execute_result"
    }
   ],
   "source": [
    "parcellation.shape"
   ]
  },
  {
   "cell_type": "code",
   "execution_count": 21,
   "id": "5e512138",
   "metadata": {},
   "outputs": [],
   "source": [
    "parcellation_data = parcellation.get_fdata()"
   ]
  },
  {
   "cell_type": "code",
   "execution_count": 23,
   "id": "88c2e89e",
   "metadata": {},
   "outputs": [
    {
     "data": {
      "text/plain": [
       "memmap([[10., 29., 24., ..., 50., 50., 50.]])"
      ]
     },
     "execution_count": 23,
     "metadata": {},
     "output_type": "execute_result"
    }
   ],
   "source": [
    "parcellation_data"
   ]
  },
  {
   "cell_type": "code",
   "execution_count": null,
   "id": "0abb63c1",
   "metadata": {},
   "outputs": [],
   "source": []
  }
 ],
 "metadata": {
  "kernelspec": {
   "display_name": "Python 3 (ipykernel)",
   "language": "python",
   "name": "python3"
  },
  "language_info": {
   "codemirror_mode": {
    "name": "ipython",
    "version": 3
   },
   "file_extension": ".py",
   "mimetype": "text/x-python",
   "name": "python",
   "nbconvert_exporter": "python",
   "pygments_lexer": "ipython3",
   "version": "3.10.4"
  }
 },
 "nbformat": 4,
 "nbformat_minor": 5
}
