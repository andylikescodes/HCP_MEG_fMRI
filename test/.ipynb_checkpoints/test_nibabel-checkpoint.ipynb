{
 "cells": [
  {
   "cell_type": "code",
   "execution_count": 52,
   "id": "bf636beb",
   "metadata": {},
   "outputs": [],
   "source": [
    "import nibabel as nib\n",
    "import pandas as pd\n",
    "import numpy as np\n",
    "import seaborn as sns\n",
    "from glob import glob"
   ]
  },
  {
   "cell_type": "code",
   "execution_count": 6,
   "id": "1c1f6c95",
   "metadata": {},
   "outputs": [
    {
     "name": "stdout",
     "output_type": "stream",
     "text": [
      "/mnt/e/HCP_MEG_fMRI/test\n"
     ]
    }
   ],
   "source": [
    "!pwd"
   ]
  },
  {
   "cell_type": "code",
   "execution_count": 8,
   "id": "9099b655",
   "metadata": {
    "collapsed": true,
    "jupyter": {
     "outputs_hidden": true
    }
   },
   "outputs": [
    {
     "name": "stdout",
     "output_type": "stream",
     "text": [
      "100307_rfMRI_REST1_LR_ICA_Classification_dualscreen.scene\n",
      "100307_rfMRI_REST1_LR_ICA_Classification_singlescreen.scene\n",
      "Atlas_hp_preclean.dtseries.nii\n",
      "Movement_AbsoluteRMS.txt\n",
      "Movement_AbsoluteRMS_mean.txt\n",
      "Movement_Regressors.txt\n",
      "Movement_Regressors_dt.txt\n",
      "Movement_RelativeRMS.txt\n",
      "Movement_RelativeRMS_mean.txt\n",
      "PhaseOne_gdc_dc.nii.gz\n",
      "PhaseTwo_gdc_dc.nii.gz\n",
      "ReclassifyAsNoise.txt\n",
      "ReclassifyAsSignal.txt\n",
      "RestingStateStats\n",
      "RibbonVolumeToSurfaceMapping\n",
      "SBRef_dc.nii.gz\n",
      "brainmask_fs.2.nii.gz\n",
      "rfMRI_REST1_LR.L.native.func.gii\n",
      "rfMRI_REST1_LR.R.native.func.gii\n",
      "rfMRI_REST1_LR.nii.gz\n",
      "rfMRI_REST1_LR_Atlas.dtseries.nii\n",
      "rfMRI_REST1_LR_Atlas_MSMAll.dtseries.nii\n",
      "rfMRI_REST1_LR_Atlas_MSMAll_hp2000_clean.dtseries.nii\n",
      "rfMRI_REST1_LR_Atlas_hp2000_clean.dtseries.nii\n",
      "rfMRI_REST1_LR_Atlas_hp2000_clean_bias.dscalar.nii\n",
      "rfMRI_REST1_LR_Atlas_hp2000_clean_vn.dscalar.nii\n",
      "rfMRI_REST1_LR_Atlas_stats.dscalar.nii\n",
      "rfMRI_REST1_LR_Atlas_stats.txt\n",
      "rfMRI_REST1_LR_CSF.txt\n",
      "rfMRI_REST1_LR_Jacobian.nii.gz\n",
      "rfMRI_REST1_LR_Physio_log.txt\n",
      "rfMRI_REST1_LR_SBRef.nii.gz\n",
      "rfMRI_REST1_LR_WM.txt\n",
      "rfMRI_REST1_LR_hp2000.ica\n",
      "rfMRI_REST1_LR_hp2000_clean.nii.gz\n"
     ]
    }
   ],
   "source": [
    "!ls ../data/100307/MNINonLinear/Results/rfMRI_REST1_LR"
   ]
  },
  {
   "cell_type": "code",
   "execution_count": 14,
   "id": "5bdac815",
   "metadata": {
    "collapsed": true,
    "jupyter": {
     "outputs_hidden": true
    }
   },
   "outputs": [
    {
     "name": "stdout",
     "output_type": "stream",
     "text": [
      "100307.32k_fs_LR.wb.spec\n",
      "100307.ArealDistortion_FS.32k_fs_LR.dscalar.nii\n",
      "100307.ArealDistortion_MSMAll.32k_fs_LR.dscalar.nii\n",
      "100307.ArealDistortion_MSMSulc.32k_fs_LR.dscalar.nii\n",
      "100307.BA.32k_fs_LR.dlabel.nii\n",
      "100307.BiasField_MSMAll.32k_fs_LR.dscalar.nii\n",
      "100307.EdgeDistortion_MSMAll.32k_fs_LR.dscalar.nii\n",
      "100307.L.ArealDistortion_FS.32k_fs_LR.shape.gii\n",
      "100307.L.ArealDistortion_MSMSulc.32k_fs_LR.shape.gii\n",
      "100307.L.BA.32k_fs_LR.label.gii\n",
      "100307.L.MyelinMap.32k_fs_LR.func.gii\n",
      "100307.L.MyelinMap_BC.32k_fs_LR.func.gii\n",
      "100307.L.SmoothedMyelinMap.32k_fs_LR.func.gii\n",
      "100307.L.SmoothedMyelinMap_BC.32k_fs_LR.func.gii\n",
      "100307.L.aparc.32k_fs_LR.label.gii\n",
      "100307.L.aparc.a2009s.32k_fs_LR.label.gii\n",
      "100307.L.atlasroi.32k_fs_LR.shape.gii\n",
      "100307.L.corrThickness.32k_fs_LR.shape.gii\n",
      "100307.L.curvature.32k_fs_LR.shape.gii\n",
      "100307.L.flat.32k_fs_LR.surf.gii\n",
      "100307.L.inflated.32k_fs_LR.surf.gii\n",
      "100307.L.inflated_MSMAll.32k_fs_LR.surf.gii\n",
      "100307.L.midthickness.32k_fs_LR.surf.gii\n",
      "100307.L.midthickness_MSMAll.32k_fs_LR.surf.gii\n",
      "100307.L.pial.32k_fs_LR.surf.gii\n",
      "100307.L.pial_MSMAll.32k_fs_LR.surf.gii\n",
      "100307.L.sphere.32k_fs_LR.surf.gii\n",
      "100307.L.sulc.32k_fs_LR.shape.gii\n",
      "100307.L.thickness.32k_fs_LR.shape.gii\n",
      "100307.L.very_inflated.32k_fs_LR.surf.gii\n",
      "100307.L.very_inflated_MSMAll.32k_fs_LR.surf.gii\n",
      "100307.L.white.32k_fs_LR.surf.gii\n",
      "100307.L.white_MSMAll.32k_fs_LR.surf.gii\n",
      "100307.MSMAll.32k_fs_LR.wb.spec\n",
      "100307.MyelinMap.32k_fs_LR.dscalar.nii\n",
      "100307.MyelinMap_BC.32k_fs_LR.dscalar.nii\n",
      "100307.MyelinMap_BC_MSMAll.32k_fs_LR.dscalar.nii\n",
      "100307.MyelinMap_MSMAll.32k_fs_LR.dscalar.nii\n",
      "100307.R.ArealDistortion_FS.32k_fs_LR.shape.gii\n",
      "100307.R.ArealDistortion_MSMSulc.32k_fs_LR.shape.gii\n",
      "100307.R.BA.32k_fs_LR.label.gii\n",
      "100307.R.MyelinMap.32k_fs_LR.func.gii\n",
      "100307.R.MyelinMap_BC.32k_fs_LR.func.gii\n",
      "100307.R.SmoothedMyelinMap.32k_fs_LR.func.gii\n",
      "100307.R.SmoothedMyelinMap_BC.32k_fs_LR.func.gii\n",
      "100307.R.aparc.32k_fs_LR.label.gii\n",
      "100307.R.aparc.a2009s.32k_fs_LR.label.gii\n",
      "100307.R.atlasroi.32k_fs_LR.shape.gii\n",
      "100307.R.corrThickness.32k_fs_LR.shape.gii\n",
      "100307.R.curvature.32k_fs_LR.shape.gii\n",
      "100307.R.flat.32k_fs_LR.surf.gii\n",
      "100307.R.inflated.32k_fs_LR.surf.gii\n",
      "100307.R.inflated_MSMAll.32k_fs_LR.surf.gii\n",
      "100307.R.midthickness.32k_fs_LR.surf.gii\n",
      "100307.R.midthickness_MSMAll.32k_fs_LR.surf.gii\n",
      "100307.R.pial.32k_fs_LR.surf.gii\n",
      "100307.R.pial_MSMAll.32k_fs_LR.surf.gii\n",
      "100307.R.sphere.32k_fs_LR.surf.gii\n",
      "100307.R.sulc.32k_fs_LR.shape.gii\n",
      "100307.R.thickness.32k_fs_LR.shape.gii\n",
      "100307.R.very_inflated.32k_fs_LR.surf.gii\n",
      "100307.R.very_inflated_MSMAll.32k_fs_LR.surf.gii\n",
      "100307.R.white.32k_fs_LR.surf.gii\n",
      "100307.R.white_MSMAll.32k_fs_LR.surf.gii\n",
      "100307.SmoothedMyelinMap.32k_fs_LR.dscalar.nii\n",
      "100307.SmoothedMyelinMap_BC.32k_fs_LR.dscalar.nii\n",
      "100307.SmoothedMyelinMap_BC_MSMAll.32k_fs_LR.dscalar.nii\n",
      "100307.SphericalDistortion_MSMAll.32k_fs_LR.dscalar.nii\n",
      "100307.aparc.32k_fs_LR.dlabel.nii\n",
      "100307.aparc.a2009s.32k_fs_LR.dlabel.nii\n",
      "100307.corrThickness.32k_fs_LR.dscalar.nii\n",
      "100307.corrThickness_MSMAll.32k_fs_LR.dscalar.nii\n",
      "100307.curvature.32k_fs_LR.dscalar.nii\n",
      "100307.curvature_MSMAll.32k_fs_LR.dscalar.nii\n",
      "100307.sulc.32k_fs_LR.dscalar.nii\n",
      "100307.sulc_MSMAll.32k_fs_LR.dscalar.nii\n",
      "100307.thickness.32k_fs_LR.dscalar.nii\n",
      "100307.thickness_MSMAll.32k_fs_LR.dscalar.nii\n"
     ]
    }
   ],
   "source": [
    "!ls ../data/100307/MNINonLinear/fsaverage_LR32k"
   ]
  },
  {
   "cell_type": "code",
   "execution_count": 4,
   "id": "ec974bea",
   "metadata": {
    "collapsed": true,
    "jupyter": {
     "outputs_hidden": true
    },
    "tags": []
   },
   "outputs": [
    {
     "name": "stdout",
     "output_type": "stream",
     "text": [
      "100307_rfMRI_REST1_LR.ptseries.nii  214524_rfMRI_REST2_RL.ptseries.nii\n",
      "100307_rfMRI_REST1_RL.ptseries.nii  221319_rfMRI_REST1_LR.ptseries.nii\n",
      "100307_rfMRI_REST2_LR.ptseries.nii  221319_rfMRI_REST1_RL.ptseries.nii\n",
      "100307_rfMRI_REST2_RL.ptseries.nii  221319_rfMRI_REST2_LR.ptseries.nii\n",
      "102816_rfMRI_REST1_LR.ptseries.nii  221319_rfMRI_REST2_RL.ptseries.nii\n",
      "102816_rfMRI_REST1_RL.ptseries.nii  223929_rfMRI_REST1_LR.ptseries.nii\n",
      "102816_rfMRI_REST2_LR.ptseries.nii  223929_rfMRI_REST1_RL.ptseries.nii\n",
      "102816_rfMRI_REST2_RL.ptseries.nii  223929_rfMRI_REST2_LR.ptseries.nii\n",
      "105923_rfMRI_REST1_LR.ptseries.nii  223929_rfMRI_REST2_RL.ptseries.nii\n",
      "105923_rfMRI_REST1_RL.ptseries.nii  233326_rfMRI_REST1_LR.ptseries.nii\n",
      "105923_rfMRI_REST2_LR.ptseries.nii  233326_rfMRI_REST1_RL.ptseries.nii\n",
      "105923_rfMRI_REST2_RL.ptseries.nii  233326_rfMRI_REST2_LR.ptseries.nii\n",
      "106521_rfMRI_REST1_LR.ptseries.nii  233326_rfMRI_REST2_RL.ptseries.nii\n",
      "106521_rfMRI_REST1_RL.ptseries.nii  248339_rfMRI_REST1_LR.ptseries.nii\n",
      "106521_rfMRI_REST2_LR.ptseries.nii  248339_rfMRI_REST1_RL.ptseries.nii\n",
      "106521_rfMRI_REST2_RL.ptseries.nii  248339_rfMRI_REST2_LR.ptseries.nii\n",
      "108323_rfMRI_REST1_LR.ptseries.nii  248339_rfMRI_REST2_RL.ptseries.nii\n",
      "108323_rfMRI_REST1_RL.ptseries.nii  250427_rfMRI_REST1_LR.ptseries.nii\n",
      "108323_rfMRI_REST2_LR.ptseries.nii  250427_rfMRI_REST1_RL.ptseries.nii\n",
      "108323_rfMRI_REST2_RL.ptseries.nii  250427_rfMRI_REST2_LR.ptseries.nii\n",
      "109123_rfMRI_REST1_LR.ptseries.nii  250427_rfMRI_REST2_RL.ptseries.nii\n",
      "109123_rfMRI_REST1_RL.ptseries.nii  255639_rfMRI_REST1_LR.ptseries.nii\n",
      "109123_rfMRI_REST2_LR.ptseries.nii  255639_rfMRI_REST1_RL.ptseries.nii\n",
      "109123_rfMRI_REST2_RL.ptseries.nii  255639_rfMRI_REST2_LR.ptseries.nii\n",
      "111514_rfMRI_REST1_LR.ptseries.nii  255639_rfMRI_REST2_RL.ptseries.nii\n",
      "111514_rfMRI_REST1_RL.ptseries.nii  257845_rfMRI_REST1_LR.ptseries.nii\n",
      "111514_rfMRI_REST2_LR.ptseries.nii  257845_rfMRI_REST1_RL.ptseries.nii\n",
      "111514_rfMRI_REST2_RL.ptseries.nii  257845_rfMRI_REST2_LR.ptseries.nii\n",
      "112920_rfMRI_REST1_LR.ptseries.nii  257845_rfMRI_REST2_RL.ptseries.nii\n",
      "112920_rfMRI_REST1_RL.ptseries.nii  283543_rfMRI_REST1_LR.ptseries.nii\n",
      "112920_rfMRI_REST2_LR.ptseries.nii  283543_rfMRI_REST1_RL.ptseries.nii\n",
      "112920_rfMRI_REST2_RL.ptseries.nii  283543_rfMRI_REST2_LR.ptseries.nii\n",
      "113922_rfMRI_REST1_LR.ptseries.nii  283543_rfMRI_REST2_RL.ptseries.nii\n",
      "113922_rfMRI_REST1_RL.ptseries.nii  287248_rfMRI_REST1_LR.ptseries.nii\n",
      "113922_rfMRI_REST2_LR.ptseries.nii  287248_rfMRI_REST1_RL.ptseries.nii\n",
      "113922_rfMRI_REST2_RL.ptseries.nii  287248_rfMRI_REST2_LR.ptseries.nii\n",
      "116524_rfMRI_REST1_LR.ptseries.nii  287248_rfMRI_REST2_RL.ptseries.nii\n",
      "116524_rfMRI_REST1_RL.ptseries.nii  293748_rfMRI_REST1_LR.ptseries.nii\n",
      "116524_rfMRI_REST2_LR.ptseries.nii  293748_rfMRI_REST1_RL.ptseries.nii\n",
      "116524_rfMRI_REST2_RL.ptseries.nii  293748_rfMRI_REST2_LR.ptseries.nii\n",
      "116726_rfMRI_REST1_LR.ptseries.nii  293748_rfMRI_REST2_RL.ptseries.nii\n",
      "116726_rfMRI_REST1_RL.ptseries.nii  352132_rfMRI_REST1_LR.ptseries.nii\n",
      "116726_rfMRI_REST2_LR.ptseries.nii  352132_rfMRI_REST1_RL.ptseries.nii\n",
      "116726_rfMRI_REST2_RL.ptseries.nii  352132_rfMRI_REST2_LR.ptseries.nii\n",
      "133019_rfMRI_REST1_LR.ptseries.nii  352132_rfMRI_REST2_RL.ptseries.nii\n",
      "133019_rfMRI_REST1_RL.ptseries.nii  352738_rfMRI_REST1_LR.ptseries.nii\n",
      "133019_rfMRI_REST2_LR.ptseries.nii  352738_rfMRI_REST1_RL.ptseries.nii\n",
      "133019_rfMRI_REST2_RL.ptseries.nii  352738_rfMRI_REST2_LR.ptseries.nii\n",
      "140117_rfMRI_REST1_LR.ptseries.nii  352738_rfMRI_REST2_RL.ptseries.nii\n",
      "140117_rfMRI_REST1_RL.ptseries.nii  353740_rfMRI_REST1_LR.ptseries.nii\n",
      "140117_rfMRI_REST2_LR.ptseries.nii  353740_rfMRI_REST1_RL.ptseries.nii\n",
      "140117_rfMRI_REST2_RL.ptseries.nii  353740_rfMRI_REST2_LR.ptseries.nii\n",
      "146129_rfMRI_REST1_LR.ptseries.nii  353740_rfMRI_REST2_RL.ptseries.nii\n",
      "146129_rfMRI_REST1_RL.ptseries.nii  358144_rfMRI_REST1_LR.ptseries.nii\n",
      "146129_rfMRI_REST2_LR.ptseries.nii  358144_rfMRI_REST1_RL.ptseries.nii\n",
      "146129_rfMRI_REST2_RL.ptseries.nii  358144_rfMRI_REST2_LR.ptseries.nii\n",
      "149741_rfMRI_REST1_LR.ptseries.nii  358144_rfMRI_REST2_RL.ptseries.nii\n",
      "149741_rfMRI_REST1_RL.ptseries.nii  406836_rfMRI_REST1_LR.ptseries.nii\n",
      "149741_rfMRI_REST2_LR.ptseries.nii  406836_rfMRI_REST1_RL.ptseries.nii\n",
      "149741_rfMRI_REST2_RL.ptseries.nii  406836_rfMRI_REST2_LR.ptseries.nii\n",
      "153732_rfMRI_REST1_LR.ptseries.nii  406836_rfMRI_REST2_RL.ptseries.nii\n",
      "153732_rfMRI_REST1_RL.ptseries.nii  433839_rfMRI_REST1_LR.ptseries.nii\n",
      "153732_rfMRI_REST2_LR.ptseries.nii  433839_rfMRI_REST1_RL.ptseries.nii\n",
      "153732_rfMRI_REST2_RL.ptseries.nii  433839_rfMRI_REST2_LR.ptseries.nii\n",
      "154532_rfMRI_REST1_LR.ptseries.nii  433839_rfMRI_REST2_RL.ptseries.nii\n",
      "154532_rfMRI_REST1_RL.ptseries.nii  512835_rfMRI_REST1_LR.ptseries.nii\n",
      "154532_rfMRI_REST2_LR.ptseries.nii  512835_rfMRI_REST1_RL.ptseries.nii\n",
      "154532_rfMRI_REST2_RL.ptseries.nii  512835_rfMRI_REST2_LR.ptseries.nii\n",
      "156334_rfMRI_REST1_LR.ptseries.nii  512835_rfMRI_REST2_RL.ptseries.nii\n",
      "156334_rfMRI_REST1_RL.ptseries.nii  555348_rfMRI_REST1_LR.ptseries.nii\n",
      "156334_rfMRI_REST2_LR.ptseries.nii  555348_rfMRI_REST1_RL.ptseries.nii\n",
      "156334_rfMRI_REST2_RL.ptseries.nii  555348_rfMRI_REST2_LR.ptseries.nii\n",
      "158136_rfMRI_REST1_LR.ptseries.nii  555348_rfMRI_REST2_RL.ptseries.nii\n",
      "158136_rfMRI_REST1_RL.ptseries.nii  559053_rfMRI_REST1_LR.ptseries.nii\n",
      "158136_rfMRI_REST2_LR.ptseries.nii  559053_rfMRI_REST1_RL.ptseries.nii\n",
      "158136_rfMRI_REST2_RL.ptseries.nii  559053_rfMRI_REST2_LR.ptseries.nii\n",
      "162026_rfMRI_REST1_LR.ptseries.nii  559053_rfMRI_REST2_RL.ptseries.nii\n",
      "162026_rfMRI_REST1_RL.ptseries.nii  568963_rfMRI_REST1_LR.ptseries.nii\n",
      "162026_rfMRI_REST2_LR.ptseries.nii  568963_rfMRI_REST1_RL.ptseries.nii\n",
      "162026_rfMRI_REST2_RL.ptseries.nii  568963_rfMRI_REST2_LR.ptseries.nii\n",
      "162935_rfMRI_REST1_LR.ptseries.nii  568963_rfMRI_REST2_RL.ptseries.nii\n",
      "162935_rfMRI_REST1_RL.ptseries.nii  581450_rfMRI_REST1_LR.ptseries.nii\n",
      "162935_rfMRI_REST2_LR.ptseries.nii  581450_rfMRI_REST1_RL.ptseries.nii\n",
      "162935_rfMRI_REST2_RL.ptseries.nii  581450_rfMRI_REST2_LR.ptseries.nii\n",
      "164636_rfMRI_REST1_LR.ptseries.nii  581450_rfMRI_REST2_RL.ptseries.nii\n",
      "164636_rfMRI_REST1_RL.ptseries.nii  599671_rfMRI_REST1_LR.ptseries.nii\n",
      "164636_rfMRI_REST2_LR.ptseries.nii  599671_rfMRI_REST1_RL.ptseries.nii\n",
      "164636_rfMRI_REST2_RL.ptseries.nii  599671_rfMRI_REST2_LR.ptseries.nii\n",
      "166438_rfMRI_REST1_LR.ptseries.nii  599671_rfMRI_REST2_RL.ptseries.nii\n",
      "166438_rfMRI_REST1_RL.ptseries.nii  601127_rfMRI_REST1_LR.ptseries.nii\n",
      "166438_rfMRI_REST2_LR.ptseries.nii  601127_rfMRI_REST1_RL.ptseries.nii\n",
      "166438_rfMRI_REST2_RL.ptseries.nii  601127_rfMRI_REST2_LR.ptseries.nii\n",
      "169040_rfMRI_REST1_LR.ptseries.nii  601127_rfMRI_REST2_RL.ptseries.nii\n",
      "169040_rfMRI_REST1_RL.ptseries.nii  660951_rfMRI_REST1_LR.ptseries.nii\n",
      "169040_rfMRI_REST2_LR.ptseries.nii  660951_rfMRI_REST1_RL.ptseries.nii\n",
      "169040_rfMRI_REST2_RL.ptseries.nii  660951_rfMRI_REST2_LR.ptseries.nii\n",
      "172029_rfMRI_REST1_LR.ptseries.nii  660951_rfMRI_REST2_RL.ptseries.nii\n",
      "172029_rfMRI_REST1_RL.ptseries.nii  662551_rfMRI_REST1_LR.ptseries.nii\n",
      "172029_rfMRI_REST2_LR.ptseries.nii  662551_rfMRI_REST1_RL.ptseries.nii\n",
      "172029_rfMRI_REST2_RL.ptseries.nii  662551_rfMRI_REST2_LR.ptseries.nii\n",
      "174841_rfMRI_REST1_LR.ptseries.nii  662551_rfMRI_REST2_RL.ptseries.nii\n",
      "174841_rfMRI_REST1_RL.ptseries.nii  665254_rfMRI_REST1_LR.ptseries.nii\n",
      "174841_rfMRI_REST2_LR.ptseries.nii  665254_rfMRI_REST1_RL.ptseries.nii\n",
      "174841_rfMRI_REST2_RL.ptseries.nii  665254_rfMRI_REST2_LR.ptseries.nii\n",
      "175237_rfMRI_REST1_LR.ptseries.nii  665254_rfMRI_REST2_RL.ptseries.nii\n",
      "175237_rfMRI_REST1_RL.ptseries.nii  667056_rfMRI_REST1_LR.ptseries.nii\n",
      "175237_rfMRI_REST2_LR.ptseries.nii  667056_rfMRI_REST1_RL.ptseries.nii\n",
      "175237_rfMRI_REST2_RL.ptseries.nii  667056_rfMRI_REST2_LR.ptseries.nii\n",
      "175540_rfMRI_REST1_LR.ptseries.nii  667056_rfMRI_REST2_RL.ptseries.nii\n",
      "175540_rfMRI_REST1_RL.ptseries.nii  679770_rfMRI_REST1_LR.ptseries.nii\n",
      "175540_rfMRI_REST2_LR.ptseries.nii  679770_rfMRI_REST1_RL.ptseries.nii\n",
      "175540_rfMRI_REST2_RL.ptseries.nii  679770_rfMRI_REST2_LR.ptseries.nii\n",
      "177746_rfMRI_REST1_LR.ptseries.nii  679770_rfMRI_REST2_RL.ptseries.nii\n",
      "177746_rfMRI_REST1_RL.ptseries.nii  680957_rfMRI_REST1_LR.ptseries.nii\n",
      "177746_rfMRI_REST2_LR.ptseries.nii  680957_rfMRI_REST1_RL.ptseries.nii\n",
      "177746_rfMRI_REST2_RL.ptseries.nii  680957_rfMRI_REST2_LR.ptseries.nii\n",
      "179245_rfMRI_REST1_LR.ptseries.nii  680957_rfMRI_REST2_RL.ptseries.nii\n",
      "179245_rfMRI_REST1_RL.ptseries.nii  706040_rfMRI_REST1_LR.ptseries.nii\n",
      "179245_rfMRI_REST2_LR.ptseries.nii  706040_rfMRI_REST1_RL.ptseries.nii\n",
      "179245_rfMRI_REST2_RL.ptseries.nii  706040_rfMRI_REST2_LR.ptseries.nii\n",
      "181232_rfMRI_REST1_LR.ptseries.nii  706040_rfMRI_REST2_RL.ptseries.nii\n",
      "181232_rfMRI_REST1_RL.ptseries.nii  707749_rfMRI_REST1_LR.ptseries.nii\n",
      "181232_rfMRI_REST2_LR.ptseries.nii  707749_rfMRI_REST1_RL.ptseries.nii\n",
      "181232_rfMRI_REST2_RL.ptseries.nii  707749_rfMRI_REST2_LR.ptseries.nii\n",
      "185442_rfMRI_REST1_LR.ptseries.nii  707749_rfMRI_REST2_RL.ptseries.nii\n",
      "185442_rfMRI_REST1_RL.ptseries.nii  715950_rfMRI_REST1_LR.ptseries.nii\n",
      "185442_rfMRI_REST2_LR.ptseries.nii  715950_rfMRI_REST1_RL.ptseries.nii\n",
      "185442_rfMRI_REST2_RL.ptseries.nii  715950_rfMRI_REST2_LR.ptseries.nii\n",
      "187547_rfMRI_REST1_LR.ptseries.nii  715950_rfMRI_REST2_RL.ptseries.nii\n",
      "187547_rfMRI_REST1_RL.ptseries.nii  725751_rfMRI_REST1_LR.ptseries.nii\n",
      "187547_rfMRI_REST2_LR.ptseries.nii  725751_rfMRI_REST1_RL.ptseries.nii\n",
      "187547_rfMRI_REST2_RL.ptseries.nii  725751_rfMRI_REST2_LR.ptseries.nii\n",
      "189349_rfMRI_REST1_LR.ptseries.nii  725751_rfMRI_REST2_RL.ptseries.nii\n",
      "189349_rfMRI_REST1_RL.ptseries.nii  735148_rfMRI_REST1_LR.ptseries.nii\n",
      "189349_rfMRI_REST2_LR.ptseries.nii  735148_rfMRI_REST1_RL.ptseries.nii\n",
      "189349_rfMRI_REST2_RL.ptseries.nii  735148_rfMRI_REST2_LR.ptseries.nii\n",
      "191033_rfMRI_REST1_LR.ptseries.nii  735148_rfMRI_REST2_RL.ptseries.nii\n",
      "191033_rfMRI_REST1_RL.ptseries.nii  783462_rfMRI_REST1_LR.ptseries.nii\n",
      "191033_rfMRI_REST2_LR.ptseries.nii  783462_rfMRI_REST1_RL.ptseries.nii\n",
      "191033_rfMRI_REST2_RL.ptseries.nii  783462_rfMRI_REST2_LR.ptseries.nii\n",
      "191437_rfMRI_REST1_LR.ptseries.nii  783462_rfMRI_REST2_RL.ptseries.nii\n",
      "191437_rfMRI_REST1_RL.ptseries.nii  814649_rfMRI_REST1_LR.ptseries.nii\n",
      "191437_rfMRI_REST2_LR.ptseries.nii  814649_rfMRI_REST1_RL.ptseries.nii\n",
      "191437_rfMRI_REST2_RL.ptseries.nii  814649_rfMRI_REST2_LR.ptseries.nii\n",
      "191841_rfMRI_REST1_LR.ptseries.nii  814649_rfMRI_REST2_RL.ptseries.nii\n",
      "191841_rfMRI_REST1_RL.ptseries.nii  825048_rfMRI_REST1_LR.ptseries.nii\n",
      "191841_rfMRI_REST2_LR.ptseries.nii  825048_rfMRI_REST1_RL.ptseries.nii\n",
      "191841_rfMRI_REST2_RL.ptseries.nii  825048_rfMRI_REST2_LR.ptseries.nii\n",
      "192641_rfMRI_REST1_LR.ptseries.nii  825048_rfMRI_REST2_RL.ptseries.nii\n",
      "192641_rfMRI_REST1_RL.ptseries.nii  872764_rfMRI_REST1_LR.ptseries.nii\n",
      "192641_rfMRI_REST2_LR.ptseries.nii  872764_rfMRI_REST1_RL.ptseries.nii\n",
      "192641_rfMRI_REST2_RL.ptseries.nii  872764_rfMRI_REST2_LR.ptseries.nii\n",
      "195041_rfMRI_REST1_LR.ptseries.nii  872764_rfMRI_REST2_RL.ptseries.nii\n",
      "195041_rfMRI_REST1_RL.ptseries.nii  877168_rfMRI_REST1_LR.ptseries.nii\n",
      "195041_rfMRI_REST2_LR.ptseries.nii  877168_rfMRI_REST1_RL.ptseries.nii\n",
      "195041_rfMRI_REST2_RL.ptseries.nii  877168_rfMRI_REST2_LR.ptseries.nii\n",
      "198653_rfMRI_REST1_LR.ptseries.nii  877168_rfMRI_REST2_RL.ptseries.nii\n",
      "198653_rfMRI_REST1_RL.ptseries.nii  891667_rfMRI_REST1_LR.ptseries.nii\n",
      "198653_rfMRI_REST2_LR.ptseries.nii  891667_rfMRI_REST1_RL.ptseries.nii\n",
      "198653_rfMRI_REST2_RL.ptseries.nii  891667_rfMRI_REST2_LR.ptseries.nii\n",
      "204521_rfMRI_REST1_LR.ptseries.nii  891667_rfMRI_REST2_RL.ptseries.nii\n",
      "204521_rfMRI_REST1_RL.ptseries.nii  898176_rfMRI_REST1_LR.ptseries.nii\n",
      "204521_rfMRI_REST2_LR.ptseries.nii  898176_rfMRI_REST1_RL.ptseries.nii\n",
      "204521_rfMRI_REST2_RL.ptseries.nii  898176_rfMRI_REST2_LR.ptseries.nii\n",
      "205119_rfMRI_REST1_LR.ptseries.nii  898176_rfMRI_REST2_RL.ptseries.nii\n",
      "205119_rfMRI_REST1_RL.ptseries.nii  912447_rfMRI_REST1_LR.ptseries.nii\n",
      "205119_rfMRI_REST2_LR.ptseries.nii  912447_rfMRI_REST1_RL.ptseries.nii\n",
      "205119_rfMRI_REST2_RL.ptseries.nii  912447_rfMRI_REST2_LR.ptseries.nii\n",
      "212318_rfMRI_REST1_LR.ptseries.nii  912447_rfMRI_REST2_RL.ptseries.nii\n",
      "212318_rfMRI_REST1_RL.ptseries.nii  917255_rfMRI_REST1_LR.ptseries.nii\n",
      "212318_rfMRI_REST2_LR.ptseries.nii  917255_rfMRI_REST1_RL.ptseries.nii\n",
      "212318_rfMRI_REST2_RL.ptseries.nii  917255_rfMRI_REST2_LR.ptseries.nii\n",
      "212823_rfMRI_REST1_LR.ptseries.nii  917255_rfMRI_REST2_RL.ptseries.nii\n",
      "212823_rfMRI_REST1_RL.ptseries.nii  990366_rfMRI_REST1_LR.ptseries.nii\n",
      "212823_rfMRI_REST2_LR.ptseries.nii  990366_rfMRI_REST1_RL.ptseries.nii\n",
      "212823_rfMRI_REST2_RL.ptseries.nii  990366_rfMRI_REST2_LR.ptseries.nii\n",
      "214524_rfMRI_REST1_LR.ptseries.nii  990366_rfMRI_REST2_RL.ptseries.nii\n",
      "214524_rfMRI_REST1_RL.ptseries.nii  parcellate.err\n",
      "214524_rfMRI_REST2_LR.ptseries.nii  parcellate.out\n"
     ]
    }
   ],
   "source": [
    "!ls ../output/parcellate"
   ]
  },
  {
   "cell_type": "code",
   "execution_count": null,
   "id": "b61a7af3-4ba8-4a45-bde7-81249c7a69e5",
   "metadata": {},
   "outputs": [],
   "source": []
  },
  {
   "cell_type": "code",
   "execution_count": 21,
   "id": "101b5a50-a69f-4524-9ebf-9524a3691c4e",
   "metadata": {},
   "outputs": [],
   "source": [
    "data_path = \"../output/parcellate/100307_rfMRI_REST1_LR.ptseries.nii\"\n",
    "par = nib.load(data_path)"
   ]
  },
  {
   "cell_type": "code",
   "execution_count": 23,
   "id": "4ee1a0b9-8967-4960-b160-d74d8a776b3c",
   "metadata": {},
   "outputs": [],
   "source": [
    "par_dat = par.get_fdata()\n",
    "df = pd.DataFrame(par_dat)"
   ]
  },
  {
   "cell_type": "code",
   "execution_count": 46,
   "id": "b1338f45-1faa-43bd-bc09-9e7b3304c313",
   "metadata": {},
   "outputs": [],
   "source": [
    "corr = df.corr().dropna(axis=1, how='all').dropna(axis=0, how='all')"
   ]
  },
  {
   "cell_type": "code",
   "execution_count": 51,
   "id": "8376c251-df3b-443a-9421-bfad89ce9eaa",
   "metadata": {},
   "outputs": [
    {
     "data": {
      "text/plain": [
       "<AxesSubplot:>"
      ]
     },
     "execution_count": 51,
     "metadata": {},
     "output_type": "execute_result"
    },
    {
     "data": {
      "image/png": "[encoded data removed]",
      "text/plain": [
       "<Figure size 640x480 with 2 Axes>"
      ]
     },
     "metadata": {},
     "output_type": "display_data"
    }
   ],
   "source": [
    "sns.heatmap(corr, annot=False,center=0, cmap=sns.diverging_palette(220, 10, as_cmap=True))"
   ]
  },
  {
   "cell_type": "code",
   "execution_count": 19,
   "id": "3c2d327f",
   "metadata": {},
   "outputs": [],
   "source": [
    "data_path          = \"../data/100307/MNINonLinear/Results/rfMRI_REST1_LR/rfMRI_REST1_LR_Atlas_MSMAll_hp2000_clean.dtseries.nii\"\n",
    "parcellation_path  = \"../data/100307/MNINonLinear/fsaverage_LR32k/100307.aparc.32k_fs_LR.dlabel.nii\"\n",
    "output_path        = \"../output/test.ptseries.nii\""
   ]
  },
  {
   "cell_type": "code",
   "execution_count": 20,
   "id": "29ef8bf4",
   "metadata": {},
   "outputs": [],
   "source": [
    "test_data = nib.load(output_path)"
   ]
  },
  {
   "cell_type": "code",
   "execution_count": 28,
   "id": "0704deca",
   "metadata": {},
   "outputs": [
    {
     "data": {
      "text/plain": [
       "(1200, 70)"
      ]
     },
     "execution_count": 28,
     "metadata": {},
     "output_type": "execute_result"
    }
   ],
   "source": [
    "test_data.get_fdata().shape"
   ]
  },
  {
   "cell_type": "code",
   "execution_count": null,
   "id": "9bb193a8",
   "metadata": {},
   "outputs": [],
   "source": []
  },
  {
   "cell_type": "code",
   "execution_count": 16,
   "id": "05a8e820",
   "metadata": {},
   "outputs": [],
   "source": [
    "parcellation = nib.load(parcellation_path)"
   ]
  },
  {
   "cell_type": "code",
   "execution_count": 17,
   "id": "cdc1bbb2",
   "metadata": {},
   "outputs": [
    {
     "data": {
      "text/plain": [
       "(1, 59412)"
      ]
     },
     "execution_count": 17,
     "metadata": {},
     "output_type": "execute_result"
    }
   ],
   "source": [
    "parcellation.shape"
   ]
  },
  {
   "cell_type": "code",
   "execution_count": 21,
   "id": "5e512138",
   "metadata": {},
   "outputs": [],
   "source": [
    "parcellation_data = parcellation.get_fdata()"
   ]
  },
  {
   "cell_type": "code",
   "execution_count": 23,
   "id": "88c2e89e",
   "metadata": {},
   "outputs": [
    {
     "data": {
      "text/plain": [
       "memmap([[10., 29., 24., ..., 50., 50., 50.]])"
      ]
     },
     "execution_count": 23,
     "metadata": {},
     "output_type": "execute_result"
    }
   ],
   "source": [
    "parcellation_data"
   ]
  },
  {
   "cell_type": "code",
   "execution_count": null,
   "id": "0abb63c1",
   "metadata": {},
   "outputs": [],
   "source": []
  }
 ],
 "metadata": {
  "kernelspec": {
   "display_name": "Python 3 (ipykernel)",
   "language": "python",
   "name": "python3"
  },
  "language_info": {
   "codemirror_mode": {
    "name": "ipython",
    "version": 3
   },
   "file_extension": ".py",
   "mimetype": "text/x-python",
   "name": "python",
   "nbconvert_exporter": "python",
   "pygments_lexer": "ipython3",
   "version": "3.10.4"
  }
 },
 "nbformat": 4,
 "nbformat_minor": 5
}
